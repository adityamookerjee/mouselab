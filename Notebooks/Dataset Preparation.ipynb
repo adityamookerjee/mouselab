{
 "cells": [
  {
   "cell_type": "markdown",
   "metadata": {},
   "source": [
    "## Dataset Preparation\n",
    "Take a bunch of `.xlsx` files and convert to appropriate `.csv` timeseries"
   ]
  },
  {
   "cell_type": "code",
   "execution_count": 7,
   "metadata": {},
   "outputs": [],
   "source": [
    "import pandas as pd\n",
    "import numpy as np"
   ]
  },
  {
   "cell_type": "code",
   "execution_count": 20,
   "metadata": {},
   "outputs": [],
   "source": [
    "df1 = pd.read_csv('../data/Adi_lv.csv')\n",
    "df1.index = np.arange(0,len(df1),1)"
   ]
  },
  {
   "cell_type": "code",
   "execution_count": 64,
   "metadata": {},
   "outputs": [],
   "source": [
    "df2 = pd.read_csv('../data/Adi_lv (1).csv')"
   ]
  },
  {
   "cell_type": "code",
   "execution_count": null,
   "metadata": {},
   "outputs": [],
   "source": []
  },
  {
   "cell_type": "code",
   "execution_count": 88,
   "metadata": {},
   "outputs": [
    {
     "name": "stderr",
     "output_type": "stream",
     "text": [
      "/usr/local/lib/python3.7/site-packages/ipykernel_launcher.py:4: SettingWithCopyWarning: \n",
      "A value is trying to be set on a copy of a slice from a DataFrame\n",
      "\n",
      "See the caveats in the documentation: http://pandas.pydata.org/pandas-docs/stable/user_guide/indexing.html#returning-a-view-versus-a-copy\n",
      "  after removing the cwd from sys.path.\n"
     ]
    }
   ],
   "source": [
    "for animal in df2.Animal.unique():\n",
    "    df = (df2.loc[df2.Animal == animal])\n",
    "    # Drop Na columns\n",
    "    df.dropna(axis=1,inplace=True)\n",
    "    # Rename\n",
    "    df.rename(columns={\"data\":\"reading\"},inplace=True)\n",
    "    # Rearrange\n",
    "    df = df[[\"reading\",'Animal','Date', 'Sex', 'BW', 'Genotype', 'pain', 'trial','Housing']]\n",
    "    # Dtypes\n",
    "    df.reading = pd.to_numeric(df.reading,errors='coerce')\n",
    "    # Index Name\n",
    "    df.index.name = \"Time\"\n",
    "    # Write to .CSV\n",
    "    df.to_csv(f\"../data/{animal} dataset.csv\")\n"
   ]
  },
  {
   "cell_type": "code",
   "execution_count": 91,
   "metadata": {},
   "outputs": [
    {
     "data": {
      "text/plain": [
       "Index(['reading', 'Animal', 'Date', 'Sex', 'BW', 'Genotype', 'pain', 'trial',\n",
       "       'Housing'],\n",
       "      dtype='object')"
      ]
     },
     "execution_count": 91,
     "metadata": {},
     "output_type": "execute_result"
    }
   ],
   "source": [
    "df.columns"
   ]
  },
  {
   "cell_type": "code",
   "execution_count": null,
   "metadata": {},
   "outputs": [],
   "source": []
  }
 ],
 "metadata": {
  "kernelspec": {
   "display_name": "Python 3",
   "language": "python",
   "name": "python3"
  },
  "language_info": {
   "codemirror_mode": {
    "name": "ipython",
    "version": 3
   },
   "file_extension": ".py",
   "mimetype": "text/x-python",
   "name": "python",
   "nbconvert_exporter": "python",
   "pygments_lexer": "ipython3",
   "version": "3.7.4"
  }
 },
 "nbformat": 4,
 "nbformat_minor": 4
}
